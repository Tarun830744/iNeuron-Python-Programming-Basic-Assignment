{
 "cells": [
  {
   "cell_type": "markdown",
   "id": "9a1e39aa",
   "metadata": {},
   "source": [
    "Q1 =Write a program that calculates and prints the value according to the given formula:\n",
    "\n",
    "Q = Square root of [(2 * C * D)/H]\n",
    "\n",
    "Following are the fixed values of C and H:\n",
    "\n",
    "C is 50. H is 30.\n",
    "\n",
    "D is the variable whose values should be input to your program in a comma-separated sequence"
   ]
  },
  {
   "cell_type": "code",
   "execution_count": 30,
   "id": "0c7f3404",
   "metadata": {},
   "outputs": [
    {
     "name": "stdout",
     "output_type": "stream",
     "text": [
      "Enter value of D: 45,58\n",
      "12,14\n"
     ]
    }
   ],
   "source": [
    "import math\n",
    "C=50\n",
    "H =30\n",
    "\n",
    "num = input(\"Enter value of D: \")\n",
    "num = num.split(',')\n",
    "L = []\n",
    "\n",
    "for D in num:\n",
    "    Q = round(math.sqrt(2 * C * int(D) / H))\n",
    "    L.append(str(Q))\n",
    "print(','.join(L))"
   ]
  },
  {
   "cell_type": "markdown",
   "id": "7f56b5f3",
   "metadata": {},
   "source": [
    "Q2 = Write a program which takes 2 digits, X,Y as input and generates a 2-dimensional array. The\n",
    "element value in the i-th row and j-th column of the array should be i*j.\n",
    "Note: i=0,1.., X-1; j=0,1,¡Y-1."
   ]
  },
  {
   "cell_type": "code",
   "execution_count": 36,
   "id": "248ccb5e",
   "metadata": {},
   "outputs": [
    {
     "name": "stdout",
     "output_type": "stream",
     "text": [
      "Enter First Number:2\n",
      "Enter Second Number:5\n",
      "[[0, 0, 0, 0, 0], [0, 1, 2, 3, 4]]\n"
     ]
    }
   ],
   "source": [
    "X = int(input(\"Enter First Number:\"))\n",
    "Y = int(input(\"Enter Second Number:\"))\n",
    "arr = []\n",
    "for i in range(X):\n",
    "    arr.append([])\n",
    "    for j in range(Y):\n",
    "        arr[i].append(i*j)\n",
    "print(arr)\n"
   ]
  },
  {
   "cell_type": "markdown",
   "id": "a39efec2",
   "metadata": {},
   "source": [
    "Q3 = Write a program that accepts a comma separated sequence of words as input and prints the\n",
    "words in a comma-separated sequence after sorting them alphabetically."
   ]
  },
  {
   "cell_type": "code",
   "execution_count": 39,
   "id": "3ff998d8",
   "metadata": {},
   "outputs": [
    {
     "name": "stdout",
     "output_type": "stream",
     "text": [
      "Type a comma separated sequence here:hii,hello,goodbye\n",
      "goodbye,hello,hii "
     ]
    }
   ],
   "source": [
    "word = input(\"Type a comma separated sequence here:\")\n",
    "words = []\n",
    "for i in word.split(\",\"):\n",
    "    words.append(i)\n",
    "s = set(words)\n",
    "print(\",\".join(sorted(s)))"
   ]
  },
  {
   "cell_type": "markdown",
   "id": "41a0becd",
   "metadata": {},
   "source": [
    "Q4 = Write a program that accepts a sequence of whitespace separated words as input and prints\n",
    "the words after removing all duplicate words and sorting them alphanumerically.\n"
   ]
  },
  {
   "cell_type": "code",
   "execution_count": 40,
   "id": "b3621838",
   "metadata": {},
   "outputs": [
    {
     "name": "stdout",
     "output_type": "stream",
     "text": [
      "write a sequence of whitespace words:hii how are you\n",
      "['are', 'hii', 'how', 'you']\n"
     ]
    }
   ],
   "source": [
    "word = input(\"write a sequence of whitespace words:\")\n",
    "set_words = set(word.split(\" \"))\n",
    "final = list(set_words)\n",
    "final.sort()\n",
    "print(final)"
   ]
  },
  {
   "cell_type": "markdown",
   "id": "e4f21706",
   "metadata": {},
   "source": [
    "Q5 = Write a program that accepts a sentence and calculate the number of letters and digits.\n",
    "Suppose the following input is supplied to the program:"
   ]
  },
  {
   "cell_type": "code",
   "execution_count": 41,
   "id": "0304c4f2",
   "metadata": {},
   "outputs": [
    {
     "name": "stdout",
     "output_type": "stream",
     "text": [
      "write a sentence here:hello world! 123\n",
      "There are 10 no. of letters and 3 no. of digits in the sentence\n"
     ]
    }
   ],
   "source": [
    "str = input(\"write a sentence here:\")\n",
    "counter_letters = 0\n",
    "counter_digits = 0\n",
    "\n",
    "for i in str:\n",
    "    if i.isalpha():\n",
    "        counter_letters = counter_letters + 1\n",
    "    elif i.isdigit():\n",
    "        counter_digits = counter_digits + 1\n",
    "print(\"There are {} no. of letters and {} no. of digits in the sentence\".format(counter_letters, counter_digits))\n"
   ]
  },
  {
   "cell_type": "markdown",
   "id": "f268492f",
   "metadata": {},
   "source": [
    "Q6 = A website requires the users to input username and password to register. Write a program to\n",
    "check the validity of password input by users."
   ]
  },
  {
   "cell_type": "code",
   "execution_count": 42,
   "id": "0564448e",
   "metadata": {},
   "outputs": [
    {
     "name": "stdout",
     "output_type": "stream",
     "text": [
      "Enter here password to check which one is correct:Tarun@123\n",
      "Tarun@123 this password is fullfill all the requirement\n"
     ]
    }
   ],
   "source": [
    "password = input(\"Enter here password to check which one is correct:\")\n",
    "\n",
    "special_char = \"[@_!#$%^&*()<>?/\\|}{~:]\"\n",
    "for i in password.split(\",\"):\n",
    "    up = 0\n",
    "    lo = 0\n",
    "    dig = 0\n",
    "    spe = 0\n",
    "    for j in i:\n",
    "        if len(i)>6 and len(i)<12:\n",
    "            if j.isupper():\n",
    "                up = up + 1\n",
    "            elif j.islower():\n",
    "                lo = lo + 1\n",
    "            elif j.isdigit():\n",
    "                dig = dig + 1\n",
    "            for k in special_char:\n",
    "                if k in j:\n",
    "                    spe = spe + 1\n",
    "    if up>0 and lo>0 and dig>0 and spe>0:\n",
    "        print(\"{} this password is fullfill all the requirement\".format(i))\n"
   ]
  },
  {
   "cell_type": "code",
   "execution_count": null,
   "id": "01203498",
   "metadata": {},
   "outputs": [],
   "source": []
  }
 ],
 "metadata": {
  "kernelspec": {
   "display_name": "Python 3",
   "language": "python",
   "name": "python3"
  },
  "language_info": {
   "codemirror_mode": {
    "name": "ipython",
    "version": 3
   },
   "file_extension": ".py",
   "mimetype": "text/x-python",
   "name": "python",
   "nbconvert_exporter": "python",
   "pygments_lexer": "ipython3",
   "version": "3.6.13"
  }
 },
 "nbformat": 4,
 "nbformat_minor": 5
}
