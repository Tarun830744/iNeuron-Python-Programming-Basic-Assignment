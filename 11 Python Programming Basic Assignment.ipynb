{
 "cells": [
  {
   "cell_type": "markdown",
   "metadata": {},
   "source": [
    "Q1 = Write a Python program to find words which are greater than given length k?"
   ]
  },
  {
   "cell_type": "code",
   "execution_count": 6,
   "metadata": {},
   "outputs": [],
   "source": [
    "def string(k,str):\n",
    "    string = []\n",
    "    text = str.split(\" \")\n",
    "    for i in text:\n",
    "        if len(i) > k:\n",
    "            string.append(i)\n",
    "    return string"
   ]
  },
  {
   "cell_type": "code",
   "execution_count": 7,
   "metadata": {},
   "outputs": [
    {
     "name": "stdout",
     "output_type": "stream",
     "text": [
      "['which', 'greater', 'given', 'length']\n"
     ]
    }
   ],
   "source": [
    "print(string(4,\"find word which are greater than given length k\"))"
   ]
  },
  {
   "cell_type": "markdown",
   "metadata": {},
   "source": [
    "Q2 = Write a Python program for removing i-th character from a string?"
   ]
  },
  {
   "cell_type": "code",
   "execution_count": 12,
   "metadata": {},
   "outputs": [],
   "source": [
    "def string(ith,str):\n",
    "    string = ''\n",
    "    text = str.split(' ')\n",
    "    for i in text:\n",
    "        for j in range(len(i)):\n",
    "            if j != ith:\n",
    "                string = string +i[j]\n",
    "        string =  string + \" \"\n",
    "    return string"
   ]
  },
  {
   "cell_type": "code",
   "execution_count": 13,
   "metadata": {},
   "outputs": [
    {
     "name": "stdout",
     "output_type": "stream",
     "text": [
      "fid wod whch ar grater thn gien legth k \n"
     ]
    }
   ],
   "source": [
    "print(string(2,\"find word which are greater than given length k\"))"
   ]
  },
  {
   "cell_type": "markdown",
   "metadata": {},
   "source": [
    "Q3 = Write a Python program to split and join a string?"
   ]
  },
  {
   "cell_type": "code",
   "execution_count": 55,
   "metadata": {},
   "outputs": [
    {
     "name": "stdout",
     "output_type": "stream",
     "text": [
      "['python', 'program', 'to', 'split', 'and', 'join', 'string']\n",
      "python-program-to-split-and-join-string\n"
     ]
    }
   ],
   "source": [
    "def split_string(string):\n",
    "    list_string = string.split(' ')\n",
    "    return list_string\n",
    "\n",
    "def join_string(list_string):\n",
    "    new_string = \"-\".join(list_string)\n",
    "    return new_string\n",
    "\n",
    "string = \"python program to split and join string\"\n",
    "list_string = split_string(string)\n",
    "print(list_string)\n",
    "new_string = join_string(list_string)\n",
    "print(new_string)"
   ]
  },
  {
   "cell_type": "markdown",
   "metadata": {},
   "source": [
    "Q4 = Write a Python to check if a given string is binary string or not?"
   ]
  },
  {
   "cell_type": "code",
   "execution_count": 57,
   "metadata": {},
   "outputs": [
    {
     "name": "stdout",
     "output_type": "stream",
     "text": [
      "StringA is not a binary string\n"
     ]
    }
   ],
   "source": [
    "stringA = \"10002710000\"\n",
    "b = '10'\n",
    "count = 0\n",
    "for char in stringA:\n",
    "    if char not in b:\n",
    "        count = 1\n",
    "        break\n",
    "    else:\n",
    "        pass\n",
    "if count:\n",
    "    print(\"StringA is not a binary string\")\n",
    "else:\n",
    "    print(\"StringA is a binary string\")"
   ]
  },
  {
   "cell_type": "markdown",
   "metadata": {},
   "source": [
    "Q5 = Write a Python program to find uncommon words from two Strings?"
   ]
  },
  {
   "cell_type": "code",
   "execution_count": 61,
   "metadata": {},
   "outputs": [
    {
     "name": "stdout",
     "output_type": "stream",
     "text": [
      "  good good people people\n"
     ]
    }
   ],
   "source": [
    "string1 = \"good things come from good people\"\n",
    "string2 = \"bad things come from bad people \"\n",
    "uncommon = \" \"\n",
    "list_a = string1.split()\n",
    "list_b = string2.split()\n",
    "\n",
    "for i in list_a:\n",
    "    if i not in list_b:\n",
    "        uncommon = uncommon + \" \" + i\n",
    "for j in list_b:\n",
    "    if j not in list_a:\n",
    "        uncommon = uncommon + \" \" + i\n",
    "print(uncommon)\n",
    "        \n"
   ]
  },
  {
   "cell_type": "markdown",
   "metadata": {},
   "source": [
    "Q6 = Write a Python to find all duplicate characters in string?"
   ]
  },
  {
   "cell_type": "code",
   "execution_count": 11,
   "metadata": {},
   "outputs": [
    {
     "name": "stdout",
     "output_type": "stream",
     "text": [
      "g\n",
      "o\n",
      "d\n",
      "c\n",
      "m\n",
      "e\n",
      "p\n"
     ]
    }
   ],
   "source": [
    "string = \"good things comec from good people\"\n",
    "for i in range(0, len(string)):  \n",
    "    count = 1\n",
    "    for j in range(i+1, len(string)):  \n",
    "        if(string[i] == string[j] and string[i] != ' '):  \n",
    "            count = count + 1\n",
    "            string = string[:j] + '0' + string[j+1:];   \n",
    "    if(count > 1 and string[i] != '0'):  \n",
    "        print(string[i]);  \n"
   ]
  },
  {
   "cell_type": "markdown",
   "metadata": {},
   "source": [
    "Q7 = Write a Python Program to check if a string contains any special character?"
   ]
  },
  {
   "cell_type": "code",
   "execution_count": 1,
   "metadata": {},
   "outputs": [
    {
     "name": "stdout",
     "output_type": "stream",
     "text": [
      "string has special character\n"
     ]
    }
   ],
   "source": [
    "string = 'Geeks$For$Geeks'\n",
    "special_car = '[@_!#$%^&*()<>?/\\|}{~:]'\n",
    "for i in string:\n",
    "    if i in special_car:\n",
    "        print(\"string has special character\")\n",
    "        break\n",
    "else:\n",
    "    print(\"string has not special character\")"
   ]
  },
  {
   "cell_type": "code",
   "execution_count": null,
   "metadata": {},
   "outputs": [],
   "source": []
  },
  {
   "cell_type": "code",
   "execution_count": null,
   "metadata": {},
   "outputs": [],
   "source": []
  }
 ],
 "metadata": {
  "kernelspec": {
   "display_name": "Python 3",
   "language": "python",
   "name": "python3"
  },
  "language_info": {
   "codemirror_mode": {
    "name": "ipython",
    "version": 3
   },
   "file_extension": ".py",
   "mimetype": "text/x-python",
   "name": "python",
   "nbconvert_exporter": "python",
   "pygments_lexer": "ipython3",
   "version": "3.8.5"
  }
 },
 "nbformat": 4,
 "nbformat_minor": 4
}
