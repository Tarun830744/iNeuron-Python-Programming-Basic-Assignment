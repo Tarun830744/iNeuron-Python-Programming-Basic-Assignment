{
 "cells": [
  {
   "cell_type": "markdown",
   "id": "7c60625c",
   "metadata": {},
   "source": [
    "Q1 = Write a Python Program to Display Fibonacci Sequence Using Recursion?"
   ]
  },
  {
   "cell_type": "code",
   "execution_count": 1,
   "id": "c55f0c71",
   "metadata": {},
   "outputs": [
    {
     "name": "stdout",
     "output_type": "stream",
     "text": [
      "Enter The Number Or Terms You Want=10\n",
      "Fibonacci Sequence\n",
      "0\n",
      "1\n",
      "1\n",
      "2\n",
      "3\n",
      "5\n",
      "8\n",
      "13\n",
      "21\n",
      "34\n"
     ]
    }
   ],
   "source": [
    "def fibo(n):\n",
    "    if n <= 1:\n",
    "        return n\n",
    "    else:\n",
    "        return (fibo(n-2)+fibo(n-1))\n",
    "\n",
    "terms = int(input('Enter The Number Or Terms You Want='))\n",
    "\n",
    "if terms > 0:\n",
    "    print(\"Fibonacci Sequence\")\n",
    "    for i in range(terms):\n",
    "        print(fibo(i))\n"
   ]
  },
  {
   "cell_type": "markdown",
   "id": "3c11efe6",
   "metadata": {},
   "source": [
    "Q2 = Write a Python Program to Find Factorial of Number Using Recursion?"
   ]
  },
  {
   "cell_type": "code",
   "execution_count": 2,
   "id": "a3aff3f6",
   "metadata": {},
   "outputs": [
    {
     "name": "stdout",
     "output_type": "stream",
     "text": [
      "Enter Num. To Find Fractorial =3\n",
      "Factorial Of 3\n",
      "6\n"
     ]
    }
   ],
   "source": [
    "def fact(n):\n",
    "    if n == 1:\n",
    "        return n \n",
    "    else:\n",
    "        return n*fact(n-1)         #function fact(n-1) means factorial of (n-1) i.e. (n-1)!\n",
    "    \n",
    "num = int(input(\"Enter Num. To Find Fractorial =\"))\n",
    "if num > 0:\n",
    "    print(\"Factorial Of {}\".format(num))\n",
    "    print(fact(num))\n",
    "else:\n",
    "    print(\"Enter A Positive Number\")"
   ]
  },
  {
   "cell_type": "markdown",
   "id": "9f223041",
   "metadata": {},
   "source": [
    "Q3 = Write a Python Program to calculate your Body Mass Index?"
   ]
  },
  {
   "cell_type": "code",
   "execution_count": 3,
   "id": "2df0beeb",
   "metadata": {},
   "outputs": [
    {
     "name": "stdout",
     "output_type": "stream",
     "text": [
      "Input your height in Feet: 5\n",
      "Input your weight in Kilogram: 55\n",
      "Your body mass index is:  2.2\n"
     ]
    }
   ],
   "source": [
    "height = float(input(\"Input your height in Feet: \"))\n",
    "weight = float(input(\"Input your weight in Kilogram: \"))\n",
    "print(\"Your body mass index is: \", round(weight / (height * height), 2))"
   ]
  },
  {
   "cell_type": "markdown",
   "id": "b9a7dd82",
   "metadata": {},
   "source": [
    "Q4 = Write a Python Program to calculate the natural logarithm of any number?"
   ]
  },
  {
   "cell_type": "code",
   "execution_count": 4,
   "id": "73605b59",
   "metadata": {},
   "outputs": [
    {
     "name": "stdout",
     "output_type": "stream",
     "text": [
      "Enter No. To find Log Value =56\n",
      "Enter The Base Value =10\n",
      "1.7481880270062005\n"
     ]
    }
   ],
   "source": [
    "import math\n",
    "\n",
    "num = int(input(\"Enter No. To find Log Value =\"))\n",
    "b = int(input(\"Enter The Base Value =\"))\n",
    "print(math.log(num,b))\n"
   ]
  },
  {
   "cell_type": "markdown",
   "id": "4264a74c",
   "metadata": {},
   "source": [
    "Q5 = Write a Python Program for cube sum of first n natural numbers?"
   ]
  },
  {
   "cell_type": "code",
   "execution_count": 7,
   "id": "7714cc79",
   "metadata": {},
   "outputs": [
    {
     "name": "stdout",
     "output_type": "stream",
     "text": [
      "Enter The nth Number =8\n",
      "The Cube Sum Of First 8 Natural Number\n",
      "1296\n"
     ]
    }
   ],
   "source": [
    "def cube(n):\n",
    "    sumcube = 0\n",
    "    for i in range(n+1):\n",
    "        sumcube= sumcube + i**3\n",
    "    return sumcube\n",
    "num = int(input(\"Enter The nth Number =\"))\n",
    "\n",
    "if num > 0:\n",
    "    print(\"The Cube Sum Of First\", num ,\"Natural Number\")\n",
    "    print(cube(num))\n",
    "else:\n",
    "    print(\"Please Enter A +ve Integer\")\n"
   ]
  },
  {
   "cell_type": "code",
   "execution_count": null,
   "id": "5017ae56",
   "metadata": {},
   "outputs": [],
   "source": []
  }
 ],
 "metadata": {
  "kernelspec": {
   "display_name": "Python 3",
   "language": "python",
   "name": "python3"
  },
  "language_info": {
   "codemirror_mode": {
    "name": "ipython",
    "version": 3
   },
   "file_extension": ".py",
   "mimetype": "text/x-python",
   "name": "python",
   "nbconvert_exporter": "python",
   "pygments_lexer": "ipython3",
   "version": "3.6.13"
  }
 },
 "nbformat": 4,
 "nbformat_minor": 5
}
