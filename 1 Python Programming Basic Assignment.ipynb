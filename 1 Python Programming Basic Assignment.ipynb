{
 "cells": [
  {
   "cell_type": "markdown",
   "metadata": {},
   "source": [
    "Q1 = Write a python program to print \"Hello Python\"?"
   ]
  },
  {
   "cell_type": "code",
   "execution_count": 2,
   "metadata": {},
   "outputs": [
    {
     "name": "stdout",
     "output_type": "stream",
     "text": [
      "Hello Python\n"
     ]
    }
   ],
   "source": [
    "print(\"Hello Python\")"
   ]
  },
  {
   "cell_type": "markdown",
   "metadata": {},
   "source": [
    "Q2 = Write a python program to do arithmetical Operation addition and division?"
   ]
  },
  {
   "cell_type": "code",
   "execution_count": 11,
   "metadata": {},
   "outputs": [
    {
     "name": "stdin",
     "output_type": "stream",
     "text": [
      "Enter operator +\n",
      "Enter First Number 5.5\n",
      "Enter Second Number 5.6\n"
     ]
    },
    {
     "name": "stdout",
     "output_type": "stream",
     "text": [
      "Addition of two number = 11.1\n"
     ]
    }
   ],
   "source": [
    "User = input(\"Enter operator\")\n",
    "if User == \"+\":\n",
    "    a = float(input(\"Enter First Number\"))\n",
    "    b = float(input(\"Enter Second Number\"))\n",
    "    print(\"Addition of two number =\",a+b)\n",
    "elif User == \"/\":\n",
    "    a = float(input(\"Enter First Number\"))\n",
    "    b = float(input(\"Enter Second Number\"))\n",
    "    print(\"Division of two number =\",a/b)\n",
    "else:\n",
    "    print(\"there is no arithmatic operation\")"
   ]
  },
  {
   "cell_type": "markdown",
   "metadata": {},
   "source": [
    "Q3 = Write a python program to find the area of triangle?"
   ]
  },
  {
   "cell_type": "code",
   "execution_count": 16,
   "metadata": {},
   "outputs": [
    {
     "name": "stdin",
     "output_type": "stream",
     "text": [
      "Enter Base of triangle 5\n",
      "Enter Height of triangle 6\n"
     ]
    },
    {
     "name": "stdout",
     "output_type": "stream",
     "text": [
      "area of triangle = 15.0\n"
     ]
    }
   ],
   "source": [
    "Base = float(input(\"Enter Base of triangle\"))\n",
    "Height = float(input(\"Enter Height of triangle\"))\n",
    "area = (Base*Height)/2\n",
    "print(\"area of triangle =\", area)"
   ]
  },
  {
   "cell_type": "markdown",
   "metadata": {},
   "source": [
    "Q4 = Write a python program to swap two variables?"
   ]
  },
  {
   "cell_type": "code",
   "execution_count": 21,
   "metadata": {},
   "outputs": [
    {
     "name": "stdin",
     "output_type": "stream",
     "text": [
      "enter first number 5\n",
      "enter second number 6\n"
     ]
    },
    {
     "name": "stdout",
     "output_type": "stream",
     "text": [
      "first number = 6\n",
      "second number = 5\n"
     ]
    }
   ],
   "source": [
    "a = input(\"enter first number\")\n",
    "b= input(\"enter second number\")\n",
    "c = a\n",
    "a = b\n",
    "b = c\n",
    "print(\"first number =\", a)\n",
    "print(\"second number =\",b)"
   ]
  },
  {
   "cell_type": "markdown",
   "metadata": {},
   "source": [
    "Q5 = Write a python program to generate a random number?"
   ]
  },
  {
   "cell_type": "code",
   "execution_count": 27,
   "metadata": {},
   "outputs": [
    {
     "name": "stdin",
     "output_type": "stream",
     "text": [
      "enter starting point number 5\n",
      "enter ending point number  8\n"
     ]
    },
    {
     "name": "stdout",
     "output_type": "stream",
     "text": [
      "6\n"
     ]
    }
   ],
   "source": [
    "import random\n",
    "a = int(input(\"enter starting point number\"))\n",
    "b = int(input(\"enter ending point number \"))\n",
    "print(random.randint(a,b))"
   ]
  },
  {
   "cell_type": "code",
   "execution_count": null,
   "metadata": {},
   "outputs": [],
   "source": []
  },
  {
   "cell_type": "code",
   "execution_count": null,
   "metadata": {},
   "outputs": [],
   "source": []
  }
 ],
 "metadata": {
  "kernelspec": {
   "display_name": "Python 3",
   "language": "python",
   "name": "python3"
  },
  "language_info": {
   "codemirror_mode": {
    "name": "ipython",
    "version": 3
   },
   "file_extension": ".py",
   "mimetype": "text/x-python",
   "name": "python",
   "nbconvert_exporter": "python",
   "pygments_lexer": "ipython3",
   "version": "3.8.5"
  }
 },
 "nbformat": 4,
 "nbformat_minor": 4
}
