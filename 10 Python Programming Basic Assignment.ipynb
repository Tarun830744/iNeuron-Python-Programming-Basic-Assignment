{
 "cells": [
  {
   "cell_type": "markdown",
   "metadata": {},
   "source": [
    "Q1 = Write a Python program to find sum of elements in list?"
   ]
  },
  {
   "cell_type": "code",
   "execution_count": 14,
   "metadata": {},
   "outputs": [
    {
     "name": "stdin",
     "output_type": "stream",
     "text": [
      "enter the range of list: 5\n",
      "enter element in list : 1\n",
      "enter element in list : 2\n",
      "enter element in list : 3\n",
      "enter element in list : 4\n",
      "enter element in list : 5\n"
     ]
    },
    {
     "name": "stdout",
     "output_type": "stream",
     "text": [
      "[1, 2, 3, 4, 5]\n",
      "sum of list =  15\n"
     ]
    }
   ],
   "source": [
    "#First we create a list by user\n",
    "num = int(input(\"enter the range of list:\"))\n",
    "list = []\n",
    "for i in range(num):\n",
    "    element = int(input('enter element in list :'))\n",
    "    list.append(element)\n",
    "print(list)\n",
    "\n",
    "#then we find sum of list\n",
    "sum_of_list = 0\n",
    "for i in list:\n",
    "    sum_of_list = sum_of_list+i\n",
    "print(\"sum of list = \",sum_of_list)"
   ]
  },
  {
   "cell_type": "markdown",
   "metadata": {},
   "source": [
    "Q2 = Write a Python program to Multiply all numbers in the list?"
   ]
  },
  {
   "cell_type": "code",
   "execution_count": 15,
   "metadata": {},
   "outputs": [
    {
     "name": "stdin",
     "output_type": "stream",
     "text": [
      "enter the range of list: 5\n",
      "enter element in list : 1\n",
      "enter element in list : 1\n",
      "enter element in list : 3\n",
      "enter element in list : 4\n",
      "enter element in list : 5\n"
     ]
    },
    {
     "name": "stdout",
     "output_type": "stream",
     "text": [
      "[1, 1, 3, 4, 5]\n",
      "multiply of list =  60\n"
     ]
    }
   ],
   "source": [
    "#First we create a list by user\n",
    "num = int(input(\"enter the range of list:\"))\n",
    "list = []\n",
    "for i in range(num):\n",
    "    element = int(input('enter element in list :'))\n",
    "    list.append(element)\n",
    "print(list)\n",
    "\n",
    "#then we find multiply of list\n",
    "multiply_of_list = 1\n",
    "for i in list:\n",
    "    multiply_of_list = multiply_of_list*i\n",
    "print(\"multiply of list = \",multiply_of_list)"
   ]
  },
  {
   "cell_type": "markdown",
   "metadata": {},
   "source": [
    "Q3 = Write a Python program to find smallest number in a list?"
   ]
  },
  {
   "cell_type": "code",
   "execution_count": 19,
   "metadata": {},
   "outputs": [
    {
     "name": "stdin",
     "output_type": "stream",
     "text": [
      "enter the range of list: 4\n",
      "enter element in list : 12\n",
      "enter element in list : 85\n",
      "enter element in list : 45\n",
      "enter element in list : 54\n"
     ]
    },
    {
     "name": "stdout",
     "output_type": "stream",
     "text": [
      "smallest number in list is  12\n"
     ]
    }
   ],
   "source": [
    "num = int(input(\"enter the range of list:\"))\n",
    "list = []\n",
    "for i in range(num):\n",
    "    element = int(input('enter element in list :'))\n",
    "    list.append(element)\n",
    "print(\"smallest number in list is \",min(list))"
   ]
  },
  {
   "cell_type": "markdown",
   "metadata": {},
   "source": [
    "Q4 = Write a Python program to find largest number in a list?"
   ]
  },
  {
   "cell_type": "code",
   "execution_count": 21,
   "metadata": {},
   "outputs": [
    {
     "name": "stdin",
     "output_type": "stream",
     "text": [
      "enter the range of list: 4\n",
      "enter element in list : 56\n",
      "enter element in list : 54\n",
      "enter element in list : 58\n",
      "enter element in list : 52\n"
     ]
    },
    {
     "name": "stdout",
     "output_type": "stream",
     "text": [
      "largest number in list is  58\n"
     ]
    }
   ],
   "source": [
    "num = int(input(\"enter the range of list:\"))\n",
    "list = []\n",
    "for i in range(num):\n",
    "    element = int(input('enter element in list :'))\n",
    "    list.append(element)\n",
    "print(\"largest number in list is \",max(list))"
   ]
  },
  {
   "cell_type": "markdown",
   "metadata": {},
   "source": [
    "Q5 = Write a Python program to find second largest number in a list?"
   ]
  },
  {
   "cell_type": "code",
   "execution_count": 23,
   "metadata": {},
   "outputs": [
    {
     "name": "stdout",
     "output_type": "stream",
     "text": [
      "second largest element: 65\n"
     ]
    }
   ],
   "source": [
    "list = [56,87,15,28,65]\n",
    "list.sort()\n",
    "print('second largest element:',list[-2])"
   ]
  },
  {
   "cell_type": "markdown",
   "metadata": {},
   "source": [
    "Q6 = Write a Python program to find N largest elements from a list?"
   ]
  },
  {
   "cell_type": "code",
   "execution_count": 28,
   "metadata": {},
   "outputs": [
    {
     "name": "stdout",
     "output_type": "stream",
     "text": [
      "[99, 89, 88]\n"
     ]
    }
   ],
   "source": [
    "list = [56,89,25,48,99,87,58,49,88]\n",
    "new_list = []\n",
    "N = 3\n",
    "for i in range(1,N+1):\n",
    "    list.sort()\n",
    "    max = list[-1]\n",
    "    new_list.append(max)\n",
    "    list.remove(max)\n",
    "print(new_list)    \n",
    "    \n",
    "    \n",
    "    "
   ]
  },
  {
   "cell_type": "markdown",
   "metadata": {},
   "source": [
    "Q7 = Write a Python program to print even numbers in a list?"
   ]
  },
  {
   "cell_type": "code",
   "execution_count": 44,
   "metadata": {},
   "outputs": [
    {
     "name": "stdout",
     "output_type": "stream",
     "text": [
      "even number in list [8, 2, 14, 12, 10]\n"
     ]
    }
   ],
   "source": [
    "list = [8,5,2,7,9,1,14,21,12,10]\n",
    "new_list = [] \n",
    "for i in list:\n",
    "    if(i%2 == 0):\n",
    "        new_list.append(i)\n",
    "print('even number in list',new_list)\n"
   ]
  },
  {
   "cell_type": "markdown",
   "metadata": {},
   "source": [
    "Q8 = Write a Python program to print odd numbers in a list?"
   ]
  },
  {
   "cell_type": "code",
   "execution_count": 45,
   "metadata": {},
   "outputs": [
    {
     "name": "stdout",
     "output_type": "stream",
     "text": [
      "odd number in list [5, 7, 9, 1, 21]\n"
     ]
    }
   ],
   "source": [
    "list = [8,5,2,7,9,1,14,21,12,10]\n",
    "new_list = [] \n",
    "for i in list:\n",
    "    if(i%2 == 1):\n",
    "        new_list.append(i)\n",
    "print('odd number in list',new_list)\n"
   ]
  },
  {
   "cell_type": "markdown",
   "metadata": {},
   "source": [
    "Q9 = Write a Python program to Remove empty List from List?"
   ]
  },
  {
   "cell_type": "code",
   "execution_count": 18,
   "metadata": {},
   "outputs": [
    {
     "name": "stdout",
     "output_type": "stream",
     "text": [
      "original list :  [45, 3, [], 'dfgd', 467, [], 67, 23, [], 85]\n",
      "after removing empty list : [45, 3, 'dfgd', 467, 67, 23, 85]\n"
     ]
    }
   ],
   "source": [
    "list = [45,3,[],'dfgd',467,[],67,23,[],85]\n",
    "print(\"original list : \",list)\n",
    "for i in list:\n",
    "    if i == []:\n",
    "        list.remove([])\n",
    "print('after removing empty list :',list)"
   ]
  },
  {
   "cell_type": "markdown",
   "metadata": {},
   "source": [
    "Q10 = Write a Python program to Cloning or Copying a list?"
   ]
  },
  {
   "cell_type": "code",
   "execution_count": 24,
   "metadata": {},
   "outputs": [
    {
     "name": "stdout",
     "output_type": "stream",
     "text": [
      "copy of list  [34, 56, 3, 63, 7, 36, 46, 5, 4]\n"
     ]
    }
   ],
   "source": [
    "list = [34,56,3,63,7,36,46,5,4]\n",
    "new_list = list\n",
    "print(\"copy of list \",new_list)"
   ]
  },
  {
   "cell_type": "markdown",
   "metadata": {},
   "source": [
    "Q11= Write a Python program to Count occurrences of an element in a list?"
   ]
  },
  {
   "cell_type": "code",
   "execution_count": 26,
   "metadata": {},
   "outputs": [
    {
     "name": "stdout",
     "output_type": "stream",
     "text": [
      " 2 appear 4 times in list\n"
     ]
    }
   ],
   "source": [
    "list = [2,4,34,23,5,2,5,23,2,3,4,2]\n",
    "count = 0\n",
    "for i in list:\n",
    "    if i == 2:\n",
    "        count = count+1\n",
    "print(\" 2 appear {} times in list\".format(count))\n",
    "        "
   ]
  },
  {
   "cell_type": "code",
   "execution_count": null,
   "metadata": {},
   "outputs": [],
   "source": []
  }
 ],
 "metadata": {
  "kernelspec": {
   "display_name": "Python 3",
   "language": "python",
   "name": "python3"
  },
  "language_info": {
   "codemirror_mode": {
    "name": "ipython",
    "version": 3
   },
   "file_extension": ".py",
   "mimetype": "text/x-python",
   "name": "python",
   "nbconvert_exporter": "python",
   "pygments_lexer": "ipython3",
   "version": "3.8.5"
  }
 },
 "nbformat": 4,
 "nbformat_minor": 4
}
