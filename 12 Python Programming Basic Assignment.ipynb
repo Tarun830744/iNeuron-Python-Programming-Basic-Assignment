{
 "cells": [
  {
   "cell_type": "markdown",
   "id": "1d594829",
   "metadata": {},
   "source": [
    "Q1 = Write a Python program to Extract Unique values dictionary values?"
   ]
  },
  {
   "cell_type": "code",
   "execution_count": 39,
   "id": "61d24f6d",
   "metadata": {},
   "outputs": [
    {
     "name": "stdout",
     "output_type": "stream",
     "text": [
      "Original dictionary : {'num1': [2, 5, 8, 6, 4], 'num2': [5, 8, 2, 44, 3], 'num3': [1, 8, 26, 1]}\n",
      "Unique value: [1, 2, 3, 4, 5, 6, 8, 44, 26]\n"
     ]
    }
   ],
   "source": [
    "test_dict = {\"num1\":[2,5,8,6,4], \n",
    "             \"num2\" :[5,8,2,44,3],\n",
    "             \"num3\":[1,8,26,1]}\n",
    "print(\"Original dictionary :\",test_dict)\n",
    "l =[]\n",
    "\n",
    "for i in test_dict.values():\n",
    "    for j in i:\n",
    "        l.append(j)\n",
    "        x = set((l))\n",
    "print(\"Unique value:\",list(x))\n",
    "\n",
    "        "
   ]
  },
  {
   "cell_type": "markdown",
   "id": "2d88064f",
   "metadata": {},
   "source": [
    "Q2 = Write a Python program to find the sum of all items in a dictionary?"
   ]
  },
  {
   "cell_type": "code",
   "execution_count": 34,
   "id": "1fac5d51",
   "metadata": {},
   "outputs": [
    {
     "name": "stdout",
     "output_type": "stream",
     "text": [
      "sum of all item in dictionary : 1024\n"
     ]
    }
   ],
   "source": [
    "test1_dict = {\"num1\":200, \n",
    "             \"num2\" :589,\n",
    "             \"num3\":235}\n",
    "sum = 0\n",
    "for i in test1_dict.values():\n",
    "    sum = sum+i\n",
    "print(\"sum of all item in dictionary :\",sum)"
   ]
  },
  {
   "cell_type": "markdown",
   "id": "3d7caf3c",
   "metadata": {},
   "source": [
    "Q3 = Write a Python program to Merging two Dictionaries?"
   ]
  },
  {
   "cell_type": "code",
   "execution_count": 36,
   "id": "62794134",
   "metadata": {},
   "outputs": [
    {
     "name": "stdout",
     "output_type": "stream",
     "text": [
      "merge of two dictionary: {'num1': 26, 'num2': 525}\n"
     ]
    }
   ],
   "source": [
    "test1 = {\"num1\":26}\n",
    "test2 = {\"num2\":525}\n",
    "test3 = test1.copy()\n",
    "test3.update(test2)\n",
    "print(\"merge of two dictionary:\",test3)"
   ]
  },
  {
   "cell_type": "markdown",
   "id": "a2268b30",
   "metadata": {},
   "source": [
    "Q4 = Write a Python program to convert key-values list to flat dictionary?"
   ]
  },
  {
   "cell_type": "code",
   "execution_count": 47,
   "id": "1962a80a",
   "metadata": {},
   "outputs": [
    {
     "name": "stdout",
     "output_type": "stream",
     "text": [
      "original dictionary: {'names': ['tarun', 'tushar', 'himanshu', 'neelansh'], 'score': [79, 78, 77, 76]}\n",
      "flat dictionary: {'tarun': 79, 'tushar': 78, 'himanshu': 77, 'neelansh': 76}\n"
     ]
    }
   ],
   "source": [
    "key_values = {\"names\":[\"tarun\",\"tushar\",\"himanshu\",\"neelansh\"],\"score\":[79,78,77,76]}\n",
    "print(\"original dictionary:\",key_values)\n",
    "flat_dict = dict(zip(key_values[\"names\"],key_values[\"score\"]))\n",
    "print(\"flat dictionary:\",flat_dict)\n",
    "        "
   ]
  },
  {
   "cell_type": "markdown",
   "id": "e835f37e",
   "metadata": {},
   "source": [
    "Q5 = Write a Python program to insertion at the beginning in OrderedDict?"
   ]
  },
  {
   "cell_type": "code",
   "execution_count": 1,
   "id": "d53f63ba",
   "metadata": {},
   "outputs": [
    {
     "name": "stdout",
     "output_type": "stream",
     "text": [
      "OrderedDict([('manoj', 1), ('Tushar', 1), ('Tarun', 2)])\n"
     ]
    }
   ],
   "source": [
    "from collections import OrderedDict\n",
    "\n",
    "inordereddict = OrderedDict([(\"Tushar\", 1), (\"Tarun\",2)])\n",
    "inordereddict.update({'manoj':1})\n",
    "inordereddict.move_to_end(\"manoj\", False)\n",
    "print(inordereddict)\n"
   ]
  },
  {
   "cell_type": "markdown",
   "id": "5f75cfbc",
   "metadata": {},
   "source": [
    "Q6 =Write a Python program to check order of character in string using OrderedDict()?"
   ]
  },
  {
   "cell_type": "code",
   "execution_count": 2,
   "id": "1d720f31",
   "metadata": {},
   "outputs": [
    {
     "name": "stdout",
     "output_type": "stream",
     "text": [
      "False\n"
     ]
    }
   ],
   "source": [
    "from collections import OrderedDict\n",
    "\n",
    "def check_order(input, pattern):\n",
    "    dict = OrderedDict.fromkeys(input)\n",
    "    counter = 0\n",
    "    for key,value in dict.items():\n",
    "        if key == pattern[counter]:\n",
    "            counter =counter + 1\n",
    "            if counter == len(pattern):\n",
    "                return True\n",
    "    return False\n",
    "\n",
    "input = 'engineers rock'\n",
    "pattern = 'erg'\n",
    "\n",
    "print(check_order(input, pattern))\n"
   ]
  },
  {
   "cell_type": "markdown",
   "id": "34cdeeba",
   "metadata": {},
   "source": [
    "Q7 = Write a Python program to sort Python Dictionaries by Key or Value?"
   ]
  },
  {
   "cell_type": "code",
   "execution_count": 12,
   "id": "d7044385",
   "metadata": {},
   "outputs": [
    {
     "name": "stdout",
     "output_type": "stream",
     "text": [
      "{'Indrajeet': 'a', 'Sourabh': 'b', 'Tushar': 'c', 'Jay': 'd', 'Tarun': 'e'}\n"
     ]
    }
   ],
   "source": [
    "dict = {\"Tushar\":'c', \"Tarun\": 'e', \"Indrajeet\": 'a', \"Jay\": 'd', \"Sourabh\":'b'}\n",
    "dict1 = {}\n",
    "l = []\n",
    "for i in dict.values():\n",
    "    l.append(i)\n",
    "l.sort()\n",
    "for values in l:\n",
    "    for key ,value in dict.items():\n",
    "        if values == value:\n",
    "            dict1[key] = value\n",
    "        else:\n",
    "            pass\n",
    "print(dict1)\n"
   ]
  },
  {
   "cell_type": "code",
   "execution_count": null,
   "id": "a620dc6b",
   "metadata": {},
   "outputs": [],
   "source": []
  }
 ],
 "metadata": {
  "kernelspec": {
   "display_name": "Python 3",
   "language": "python",
   "name": "python3"
  },
  "language_info": {
   "codemirror_mode": {
    "name": "ipython",
    "version": 3
   },
   "file_extension": ".py",
   "mimetype": "text/x-python",
   "name": "python",
   "nbconvert_exporter": "python",
   "pygments_lexer": "ipython3",
   "version": "3.6.13"
  }
 },
 "nbformat": 4,
 "nbformat_minor": 5
}
