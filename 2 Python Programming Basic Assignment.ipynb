{
 "cells": [
  {
   "cell_type": "markdown",
   "metadata": {},
   "source": [
    "Q1 = Write a python program to convert kilometer to miles"
   ]
  },
  {
   "cell_type": "code",
   "execution_count": 3,
   "metadata": {},
   "outputs": [
    {
     "name": "stdin",
     "output_type": "stream",
     "text": [
      "Enter the value which convert kilometer into miles 50\n"
     ]
    },
    {
     "name": "stdout",
     "output_type": "stream",
     "text": [
      "50.0 kilometer is equal to 31.07520198881293 miles\n"
     ]
    }
   ],
   "source": [
    "value = float(input(\"Enter the value which convert kilometer into miles\"))\n",
    "value1 = value/1.609\n",
    "print(value,\"kilometer is equal to\",value1,\"miles\")"
   ]
  },
  {
   "cell_type": "markdown",
   "metadata": {},
   "source": [
    "Q2 = Write a python program to convert celsius to fahrenheit"
   ]
  },
  {
   "cell_type": "code",
   "execution_count": 4,
   "metadata": {},
   "outputs": [
    {
     "name": "stdin",
     "output_type": "stream",
     "text": [
      "Enter the value which convert celsius to fahrenheit 1\n"
     ]
    },
    {
     "name": "stdout",
     "output_type": "stream",
     "text": [
      "1.0 celsius is equal to 33.8 fahrenheit\n"
     ]
    }
   ],
   "source": [
    "value = float(input(\"Enter the value which convert celsius to fahrenheit\"))\n",
    "value1 =(value*1.8)+32\n",
    "print(value,\"celsius is equal to\",value1,\"fahrenheit\")"
   ]
  },
  {
   "cell_type": "markdown",
   "metadata": {},
   "source": [
    "Q3 = Write a python program to display calender?"
   ]
  },
  {
   "cell_type": "code",
   "execution_count": 6,
   "metadata": {},
   "outputs": [
    {
     "name": "stdin",
     "output_type": "stream",
     "text": [
      "Enter the year : 2021\n",
      "Enter the month: 4\n"
     ]
    },
    {
     "name": "stdout",
     "output_type": "stream",
     "text": [
      "     April 2021\n",
      "Mo Tu We Th Fr Sa Su\n",
      "          1  2  3  4\n",
      " 5  6  7  8  9 10 11\n",
      "12 13 14 15 16 17 18\n",
      "19 20 21 22 23 24 25\n",
      "26 27 28 29 30\n",
      "\n"
     ]
    }
   ],
   "source": [
    "import calendar\n",
    "year = int(input(\"Enter the year :\"))\n",
    "month = int(input(\"Enter the month:\"))\n",
    "print(calendar.month(year , month))"
   ]
  },
  {
   "cell_type": "markdown",
   "metadata": {},
   "source": [
    "Q4 = Write a python program to solve quadratic equation?"
   ]
  },
  {
   "cell_type": "code",
   "execution_count": 1,
   "metadata": {},
   "outputs": [
    {
     "name": "stdout",
     "output_type": "stream",
     "text": [
      "General Form of equation ax**2 +bx+c=0\n"
     ]
    },
    {
     "name": "stdin",
     "output_type": "stream",
     "text": [
      "Enter value of a : 5\n",
      "Enter value of b : 5\n",
      "Enter value of c : 5\n"
     ]
    },
    {
     "name": "stdout",
     "output_type": "stream",
     "text": [
      "The solution are (-12.500000000000002-21.65063509461097j) and (-12.499999999999998+21.65063509461097j)\n"
     ]
    }
   ],
   "source": [
    "print(\"General Form of equation ax**2 +bx+c=0\")\n",
    "a = float(input(\"Enter value of a :\"))\n",
    "b = float(input(\"Enter value of b :\"))\n",
    "c = float(input(\"Enter value of c :\"))\n",
    "disc = (b**2)-(4*a*c)\n",
    "disc1 = (disc**0.5)\n",
    "sol1 = (-b-disc1)/2*a\n",
    "sol2 = (-b+disc1)/2*a\n",
    "print('The solution are {} and {}'.format(sol1,sol2))\n"
   ]
  },
  {
   "cell_type": "markdown",
   "metadata": {},
   "source": [
    "Q5 = Write python program to swap two variable without temp variable"
   ]
  },
  {
   "cell_type": "code",
   "execution_count": 4,
   "metadata": {},
   "outputs": [
    {
     "name": "stdin",
     "output_type": "stream",
     "text": [
      "value of a : 75\n",
      "value of b: 5\n"
     ]
    },
    {
     "name": "stdout",
     "output_type": "stream",
     "text": [
      "after swap value of a is 5.0 and b is 75.0\n"
     ]
    }
   ],
   "source": [
    "a = float(input(\"value of a :\"))\n",
    "b = float(input(\"value of b:\"))\n",
    "a = a+b\n",
    "b = a-b\n",
    "a = a-b\n",
    "print(\"after swap value of a is {} and b is {}\".format(a,b))"
   ]
  },
  {
   "cell_type": "code",
   "execution_count": null,
   "metadata": {},
   "outputs": [],
   "source": []
  }
 ],
 "metadata": {
  "kernelspec": {
   "display_name": "Python 3",
   "language": "python",
   "name": "python3"
  },
  "language_info": {
   "codemirror_mode": {
    "name": "ipython",
    "version": 3
   },
   "file_extension": ".py",
   "mimetype": "text/x-python",
   "name": "python",
   "nbconvert_exporter": "python",
   "pygments_lexer": "ipython3",
   "version": "3.8.5"
  }
 },
 "nbformat": 4,
 "nbformat_minor": 4
}
