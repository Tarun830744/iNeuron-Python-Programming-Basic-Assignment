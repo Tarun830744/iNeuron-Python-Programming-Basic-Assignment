{
 "cells": [
  {
   "cell_type": "markdown",
   "metadata": {},
   "source": [
    "Q1 = Write a python program to find LCM"
   ]
  },
  {
   "cell_type": "code",
   "execution_count": 2,
   "metadata": {},
   "outputs": [
    {
     "name": "stdin",
     "output_type": "stream",
     "text": [
      "enter a first number: 8\n",
      "enter a second number: 9\n"
     ]
    },
    {
     "name": "stdout",
     "output_type": "stream",
     "text": [
      "lcm of two number : 72\n"
     ]
    }
   ],
   "source": [
    "# this program for finding lcm of two numbers\n",
    "x = int(input(\"enter a first number:\"))\n",
    "y = int(input(\"enter a second number:\"))\n",
    "if x > y:\n",
    "    greater = x\n",
    "else:\n",
    "    greater = y\n",
    "while(True):\n",
    "    if((greater % x == 0) and (greater % y == 0)):\n",
    "        lcm = greater\n",
    "        break\n",
    "    greater += 1\n",
    "print(\"lcm of two number :\",lcm)\n",
    "    \n",
    "    "
   ]
  },
  {
   "cell_type": "markdown",
   "metadata": {},
   "source": [
    "Q2 = Write a python program to find HCF"
   ]
  },
  {
   "cell_type": "code",
   "execution_count": 3,
   "metadata": {},
   "outputs": [
    {
     "name": "stdin",
     "output_type": "stream",
     "text": [
      "enter a first number: 5\n",
      "enter a second number: 6\n"
     ]
    },
    {
     "name": "stdout",
     "output_type": "stream",
     "text": [
      "hcf of two number : 1\n"
     ]
    }
   ],
   "source": [
    "# this program for finding HCF of two numbers\n",
    "x = int(input(\"enter a first number:\"))\n",
    "y = int(input(\"enter a second number:\"))\n",
    "if x > y:\n",
    "    smaller = y\n",
    "else:\n",
    "    smaller = x\n",
    "for i in range(1, smaller+1):\n",
    "    if((x % i == 0) and (y % i == 0)):\n",
    "        hcf = i \n",
    "print(\"hcf of two number :\",hcf)"
   ]
  },
  {
   "cell_type": "markdown",
   "metadata": {},
   "source": [
    "Q3 = Write a Python Program to convert decimal to binary ,Octal and hexadecimal"
   ]
  },
  {
   "cell_type": "code",
   "execution_count": 4,
   "metadata": {},
   "outputs": [],
   "source": [
    "def decimaltobinary(n):\n",
    "    if n > 1:\n",
    "        decimaltobinary(n//2)\n",
    "    print(n % 2,end = '')\n",
    "\n",
    "def decimaltooctal(n):\n",
    "    if n > 1:\n",
    "        decimaltooctal(n//8)\n",
    "    print(n % 8, end ='')\n",
    "\n",
    "def decimaltohexadecimal(n):\n",
    "    if n > 1:\n",
    "        decimaltohexadecimal(n//16)\n",
    "    print(n%16, end = '')"
   ]
  },
  {
   "cell_type": "code",
   "execution_count": 5,
   "metadata": {},
   "outputs": [
    {
     "name": "stdout",
     "output_type": "stream",
     "text": [
      "10100"
     ]
    }
   ],
   "source": [
    "decimaltobinary(20)"
   ]
  },
  {
   "cell_type": "code",
   "execution_count": 6,
   "metadata": {},
   "outputs": [
    {
     "name": "stdout",
     "output_type": "stream",
     "text": [
      "024"
     ]
    }
   ],
   "source": [
    "decimaltooctal(20)"
   ]
  },
  {
   "cell_type": "code",
   "execution_count": 7,
   "metadata": {},
   "outputs": [
    {
     "name": "stdout",
     "output_type": "stream",
     "text": [
      "14"
     ]
    }
   ],
   "source": [
    "decimaltohexadecimal(20)"
   ]
  },
  {
   "cell_type": "code",
   "execution_count": null,
   "metadata": {},
   "outputs": [],
   "source": []
  },
  {
   "cell_type": "markdown",
   "metadata": {},
   "source": [
    "Q4 = Write a python program to find ASCII value of character "
   ]
  },
  {
   "cell_type": "code",
   "execution_count": 8,
   "metadata": {},
   "outputs": [
    {
     "name": "stdin",
     "output_type": "stream",
     "text": [
      "Enter a character:  j\n"
     ]
    },
    {
     "name": "stdout",
     "output_type": "stream",
     "text": [
      "The ASCII value of  j  is 106\n"
     ]
    }
   ],
   "source": [
    "char = input(\"Enter a character: \")  \n",
    "  \n",
    "print(\"The ASCII value of \" ,char, \" is\", ord(char))  "
   ]
  },
  {
   "cell_type": "markdown",
   "metadata": {},
   "source": [
    "Q5 = Write a python Program to make simple calculater with basic 4 operation"
   ]
  },
  {
   "cell_type": "code",
   "execution_count": 12,
   "metadata": {},
   "outputs": [
    {
     "name": "stdout",
     "output_type": "stream",
     "text": [
      "This calculator work only for two digit Calculation and 4 operation such as '+' '-' '*' '/'\n"
     ]
    },
    {
     "name": "stdin",
     "output_type": "stream",
     "text": [
      "Enter first number : 0\n",
      "Enter second number : 5\n",
      "Enter operend /\n"
     ]
    },
    {
     "name": "stdout",
     "output_type": "stream",
     "text": [
      "if 0 is divide by any number is 0\n"
     ]
    }
   ],
   "source": [
    "print(\"This calculator work only for two digit Calculation and 4 operation such as '+' '-' '*' '/'\")\n",
    "a = float(input(\"Enter first number :\"))\n",
    "b = float(input(\"Enter second number :\"))\n",
    "op = str(input(\"Enter operend\"))\n",
    "if op == '+':\n",
    "    print(\"sum of two num :\",a+b)\n",
    "elif op == '-':\n",
    "    print(\"subtraction of two num :\",a-b)\n",
    "elif op == '*':\n",
    "    print(\"multiplication of two num :\",a*b)\n",
    "elif op == '/':\n",
    "    if a == 0:\n",
    "        print(\"if 0 is divide by any number is 0\")\n",
    "    elif b == 0:\n",
    "        print(\"if any num divide by 0 is undefined\")\n",
    "    else:\n",
    "        print(\"division of two num :\",a/b)\n",
    "else:\n",
    "    print(\"this type of operation cannot be done here\")"
   ]
  },
  {
   "cell_type": "code",
   "execution_count": null,
   "metadata": {},
   "outputs": [],
   "source": []
  },
  {
   "cell_type": "code",
   "execution_count": null,
   "metadata": {},
   "outputs": [],
   "source": []
  },
  {
   "cell_type": "code",
   "execution_count": null,
   "metadata": {},
   "outputs": [],
   "source": []
  }
 ],
 "metadata": {
  "kernelspec": {
   "display_name": "Python 3",
   "language": "python",
   "name": "python3"
  },
  "language_info": {
   "codemirror_mode": {
    "name": "ipython",
    "version": 3
   },
   "file_extension": ".py",
   "mimetype": "text/x-python",
   "name": "python",
   "nbconvert_exporter": "python",
   "pygments_lexer": "ipython3",
   "version": "3.6.13"
  }
 },
 "nbformat": 4,
 "nbformat_minor": 4
}
